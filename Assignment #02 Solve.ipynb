{
 "cells": [
  {
   "cell_type": "markdown",
   "id": "31bb3701-9c14-4726-bde8-3a045809d067",
   "metadata": {},
   "source": [
    "### Scenario 1: Grocery Shopping List You are creating a program to manage a grocery shopping list. Users should be able to add items, remove items, and display the current list. "
   ]
  },
  {
   "cell_type": "code",
   "execution_count": 1,
   "id": "8809d455-0a02-43ab-ad62-0eb7c8fee18b",
   "metadata": {},
   "outputs": [
    {
     "name": "stdout",
     "output_type": "stream",
     "text": [
      "Grocery Shopping List Manager\n",
      "1. Add item\n",
      "2. Remove item\n",
      "3. Display items\n",
      "4. Exit\n"
     ]
    },
    {
     "name": "stdout",
     "output_type": "stream",
     "text": [
      "enter your choice 1,2,3,4 : 1\n",
      "enter your item  : suger\n"
     ]
    },
    {
     "name": "stdout",
     "output_type": "stream",
     "text": [
      "suger is added in your shopping list\n",
      "Grocery Shopping List Manager\n",
      "1. Add item\n",
      "2. Remove item\n",
      "3. Display items\n",
      "4. Exit\n"
     ]
    },
    {
     "name": "stdout",
     "output_type": "stream",
     "text": [
      "enter your choice 1,2,3,4 : 3\n"
     ]
    },
    {
     "name": "stdout",
     "output_type": "stream",
     "text": [
      "your shopping list concluded\n",
      "suger\n",
      "Grocery Shopping List Manager\n",
      "1. Add item\n",
      "2. Remove item\n",
      "3. Display items\n",
      "4. Exit\n"
     ]
    },
    {
     "name": "stdout",
     "output_type": "stream",
     "text": [
      "enter your choice 1,2,3,4 : 4\n"
     ]
    },
    {
     "name": "stdout",
     "output_type": "stream",
     "text": [
      "Exiting\n"
     ]
    }
   ],
   "source": [
    "def add_items(shopping_list,item):\n",
    "    if item not in shopping_list:\n",
    "        shopping_list.append(item)\n",
    "        print(f\"{item} is added in your shopping list\")\n",
    "    else:\n",
    "        print(f\"Sorry {item} allready available in list\")\n",
    "def remove_item(shopping_list,item):\n",
    "    if item in shopping_list:\n",
    "        shopping_list.remove(item)\n",
    "        print(f\"{item} has been removed from your list\")\n",
    "    else:\n",
    "        print(f\"{item} not available in list\")\n",
    "\n",
    "def show_list(shopping_list):\n",
    "    if shopping_list:\n",
    "        print(\"your shopping list concluded\")\n",
    "        for item in shopping_list:\n",
    "            print(f\"{item}\")\n",
    "\n",
    "def main():\n",
    "    shopping_list =[]\n",
    "\n",
    "    while True:\n",
    "        print(\"Grocery Shopping List Manager\")\n",
    "        print(\"1. Add item\")\n",
    "        print(\"2. Remove item\")\n",
    "        print(\"3. Display items\")\n",
    "        print(\"4. Exit\")\n",
    "\n",
    "        choice = int(input(\"enter your choice 1,2,3,4 :\"))\n",
    "        if choice == 1:\n",
    "            item = input(\"enter your item  :\")\n",
    "            add_items(shopping_list,item)\n",
    "        elif choice == 2:\n",
    "            item = input(\"enter your item to remove  :\")\n",
    "            remove_item(shopping_list,item)\n",
    "        elif choice== 3:\n",
    "            show_list(shopping_list)\n",
    "        elif choice == 4:\n",
    "            print(\"Exiting\")\n",
    "            break\n",
    "        else:\n",
    "            print(\"invalid choice .please enter only 1 to 4\")\n",
    "\n",
    "\n",
    "main()"
   ]
  },
  {
   "cell_type": "markdown",
   "id": "dee4c669-e2f6-436c-afe1-46beba144b0a",
   "metadata": {},
   "source": [
    "### Scenario 2: Student Grades  You are managing student grades using a dictionary. You need to calculate the average grade.take atleast 5 Students grades & then calculate the average. "
   ]
  },
  {
   "cell_type": "code",
   "execution_count": 1,
   "id": "a400060c-915f-4cc1-a34c-d342fd6556e6",
   "metadata": {},
   "outputs": [],
   "source": [
    "students = {\n",
    "    \"Ahmad\" : 98,\n",
    "    \"Majid\" : 97,\n",
    "    \"nawab\" : 90,\n",
    "    \"Siddique\" : 89,\n",
    "    \"Saad\" : 92\n",
    "}\n",
    "Total_marks = sum(students.values())\n",
    "Total_students = len(students)\n",
    "Average = Total_marks / Total_students"
   ]
  },
  {
   "cell_type": "code",
   "execution_count": 3,
   "id": "91b87770-4fda-42b0-8df7-3f3d79aafa09",
   "metadata": {},
   "outputs": [
    {
     "name": "stdout",
     "output_type": "stream",
     "text": [
      "Total_marks of Students: 466\n",
      "Total_students : 5\n",
      "Average:  93.2 %\n"
     ]
    }
   ],
   "source": [
    "print(\"Total_marks of Students:\",Total_marks)\n",
    "print(\"Total_students :\", Total_students)\n",
    "print(\"Average: \",Average,\"%\")"
   ]
  },
  {
   "cell_type": "markdown",
   "id": "31c36b52-ef81-4db4-8c9b-b8e22d84f3db",
   "metadata": {},
   "source": [
    "### Scenario 3: Word Frequency Counter You are given a list of words, and you need to count the frequency of each word. word_list = [\"apple\", \"banana\", \"apple\", \"orange\", \"banana\", \"grape\", \"apple\"]"
   ]
  },
  {
   "cell_type": "code",
   "execution_count": 4,
   "id": "1ba51430-40b1-4ad9-8308-72cbe8e5a105",
   "metadata": {},
   "outputs": [
    {
     "name": "stdout",
     "output_type": "stream",
     "text": [
      "{'apple': 3, 'banana': 2, 'orange': 1, 'grape': 1}\n"
     ]
    }
   ],
   "source": [
    "word_list = [\"apple\", \"banana\", \"apple\", \"orange\", \"banana\", \"grape\", \"apple\"]\n",
    "frequency_counter = {}\n",
    "for item in word_list: \n",
    "    if item in frequency_counter: \n",
    "        frequency_counter[item] += 1\n",
    "    else:\n",
    "        frequency_counter[item] = 1\n",
    "\n",
    "print(frequency_counter)"
   ]
  },
  {
   "cell_type": "markdown",
   "id": "e908113a-2ae5-4d88-87e3-ef3a3ca295a4",
   "metadata": {},
   "source": [
    "### Scenario 3: Password Strength Checker You are creating a program to check the strength of passwords based on certain criteria. \n",
    "*  Password should be at least 8 characters long. \n",
    "*  Password should contain at least one digit. \n",
    "*  Password should contain at least upper letter. "
   ]
  },
  {
   "cell_type": "code",
   "execution_count": 3,
   "id": "08c19b9e-4fcc-42c9-8d07-e45260769f78",
   "metadata": {},
   "outputs": [
    {
     "name": "stdout",
     "output_type": "stream",
     "text": [
      "Password is Valid.\n"
     ]
    }
   ],
   "source": [
    "password = input(\"Enter a password:\")\n",
    "if len(password) < 8:\n",
    "    print(\"The password must be at least eight characters long.\")\n",
    "if not any(char.isdigit() for char in password):\n",
    "    print(\"It must contain at least one numeric digit.\")\n",
    "if not any(char.isupper() for char in password):\n",
    "    print(\"It must contain at least one upper letter.\")    \n",
    "else:\n",
    "    print(\"Password is Valid.\")"
   ]
  },
  {
   "cell_type": "markdown",
   "id": "4f222bc9-2849-4e74-bdca-3906a0d3d12f",
   "metadata": {},
   "source": [
    "### Scenario 04: Voting System (Annual Employee Recognition Awards)\n",
    "You are developing a simple voting system for a contest. Users can vote for their Favorite option, and\n",
    "you need to count the votes.\n",
    "In a corporate setting, the HR department is organizing the Annual Employee Recognition Awards,\n",
    "where employees get the opportunity to vote for their colleagues nominated in different categories.\n",
    "The HR team has decided to use a simple voting system to collect and tally votes for the nominees in\n",
    "various award categories. The script provided will be utilized for this purpose.\n",
    "Candidates: The nominees for different award categories, such as \"Employee of the Year,\" \"Team\n",
    "Player of the Year,\" and \"Innovation Award,\" are represented by the list of candidates: 'Candidate A,'\n",
    "'Candidate B,' and 'Candidate C.'\n",
    "Voting Process: Employees are requested to input the number of voters participating in the awards.\n",
    "Each voter is presented with a list of nominees, and they can vote for their preferred candidate by\n",
    "entering the corresponding number.\n",
    "Validation: The script ensures that the entered vote is within the valid range of candidates. If an\n",
    "employee enters an invalid vote, the system prompts them to choose a valid candidate.\n",
    "Recording Votes: The script records each vote for the selected candidate and prints a confirmation\n",
    "message indicating that the vote has been recorded.\n",
    "Results Display: Once all votes are collected, the system displays the voting results, showing the\n",
    "number of votes each candidate received in each category.\n",
    "Award Winners: Based on the voting results, the HR department can identify the winners for each\n",
    "award category and proceed with recognizing and rewarding the selected employees during the\n",
    "Annual Employee Recognition Ceremony.\n",
    "This script provides a straightforward and transparent way for employees to participate in the\n",
    "recognition process, fostering a sense of engagement and community within the organization. The\n",
    "HR team can use the collected votes to acknowledge and appreciate the efforts of outstanding\n",
    "employees in various aspects of their work."
   ]
  },
  {
   "cell_type": "code",
   "execution_count": 6,
   "id": "13425800-4754-4538-bf29-6f573f4bb3d2",
   "metadata": {
    "scrolled": true
   },
   "outputs": [
    {
     "name": "stdout",
     "output_type": "stream",
     "text": [
      "Enter the number of voters:  2\n"
     ]
    },
    {
     "name": "stdout",
     "output_type": "stream",
     "text": [
      "1. Candidate A\n",
      "2. Candidate B\n",
      "3. Candidate C\n",
      "Press 'q' to stop voting\n"
     ]
    },
    {
     "name": "stdout",
     "output_type": "stream",
     "text": [
      "Voter 1, please choose your candidate:  1\n"
     ]
    },
    {
     "name": "stdout",
     "output_type": "stream",
     "text": [
      "1. Candidate A\n",
      "2. Candidate B\n",
      "3. Candidate C\n",
      "Press 'q' to stop voting\n"
     ]
    },
    {
     "name": "stdout",
     "output_type": "stream",
     "text": [
      "Voter 2, please choose your candidate:  1\n"
     ]
    },
    {
     "name": "stdout",
     "output_type": "stream",
     "text": [
      "\n",
      "Candidate A votes: 2\n",
      "Candidate B votes: 0\n",
      "Candidate C votes: 0\n"
     ]
    }
   ],
   "source": [
    "number_vote = int(input(\"Enter the number of voters: \"))\n",
    "candidate1 = []\n",
    "candidate2 = []\n",
    "candidate3 = []\n",
    "\n",
    "for i in range(number_vote):\n",
    "    print(\"1. Candidate A\")\n",
    "    print(\"2. Candidate B\")\n",
    "    print(\"3. Candidate C\")\n",
    "    print(\"Press 'q' to stop voting\")\n",
    "\n",
    "    while True:  \n",
    "        vote_for = input(f\"Voter {i + 1}, please choose your candidate: \")\n",
    "        \n",
    "        if vote_for == '1':\n",
    "            candidate1.append(1)\n",
    "            break\n",
    "        elif vote_for == '2':\n",
    "            candidate2.append(1)\n",
    "            break\n",
    "        elif vote_for == '3':\n",
    "            candidate3.append(1)\n",
    "            break\n",
    "        elif vote_for.lower() == \"q\":\n",
    "            print(\"Voting has been stopped.\")\n",
    "            number_vote = i  # Update number_vote to end early\n",
    "            break\n",
    "        else:\n",
    "            print(\"Invalid input. Please enter a valid candidate number.\")\n",
    "\n",
    "    if vote_for.lower() == \"q\":\n",
    "        break\n",
    "\n",
    "\n",
    "print(f\"\\nCandidate A votes: {sum(candidate1)}\")\n",
    "print(f\"Candidate B votes: {sum(candidate2)}\")\n",
    "print(f\"Candidate C votes: {sum(candidate3)}\")\n"
   ]
  },
  {
   "cell_type": "code",
   "execution_count": null,
   "id": "86f04261-f1c1-4909-b005-d0db5d2eb5a7",
   "metadata": {},
   "outputs": [],
   "source": []
  }
 ],
 "metadata": {
  "kernelspec": {
   "display_name": "base",
   "language": "python",
   "name": "python3"
  },
  "language_info": {
   "codemirror_mode": {
    "name": "ipython",
    "version": 3
   },
   "file_extension": ".py",
   "mimetype": "text/x-python",
   "name": "python",
   "nbconvert_exporter": "python",
   "pygments_lexer": "ipython3",
   "version": "3.11.7"
  },
  "widgets": {
   "application/vnd.jupyter.widget-state+json": {
    "state": {},
    "version_major": 2,
    "version_minor": 0
   }
  }
 },
 "nbformat": 4,
 "nbformat_minor": 5
}
